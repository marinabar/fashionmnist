{
  "nbformat": 4,
  "nbformat_minor": 0,
  "metadata": {
    "kernelspec": {
      "display_name": "Python 3",
      "language": "python",
      "name": "python3"
    },
    "language_info": {
      "codemirror_mode": {
        "name": "ipython",
        "version": 3
      },
      "file_extension": ".py",
      "mimetype": "text/x-python",
      "name": "python",
      "nbconvert_exporter": "python",
      "pygments_lexer": "ipython3",
      "version": "3.6.7"
    },
    "colab": {
      "name": "Part 4 - Fashion-MNIST (Exercises).ipynb",
      "version": "0.3.2",
      "provenance": [],
      "collapsed_sections": []
    }
  },
  "cells": [
    {
      "cell_type": "markdown",
      "metadata": {
        "id": "cwvnG6g6eW8B",
        "colab_type": "text"
      },
      "source": [
        "# Classifying Fashion-MNIST\n",
        "\n",
        "Теперь ваша очередь строить и обучать нейронную сеть. Вы будете использовать [набор данных Fashion-MNIST] (https://github.com/zalandoresearch/fashion-mnist), заменяющий набор данных MNIST. MNIST на самом деле довольно тривиален с нейронными сетями, где вы можете легко достичь точности выше 97%. Fashion-MNIST - это набор 28x28 черно-белых изображений одежды. Он более сложный, чем MNIST, поэтому он лучше отображает реальную производительность вашей сети и лучше отображает наборы данных, которые вы будете использовать в реальном мире.\n",
        "\n",
        "![image.png](attachment:image.png)\n",
        "\n",
        "В этом ноутбуке вы создадите свою собственную нейронную сеть. По большей части, вы можете просто скопировать и вставить код из предыдущей часть, но это бесполезно, вас это умнее не сделает. Для вас важно написать код самостоятельно и заставить его работать. Не стесняйтесь обращаться к предыдущим ноутбукам, но работайте над этим сами.\n",
        "\n",
        "Прежде всего, давайте загрузим набор данных через torchvision."
      ]
    },
    {
      "cell_type": "code",
      "metadata": {
        "id": "A4CNqTcOeW8D",
        "colab_type": "code",
        "colab": {}
      },
      "source": [
        "import torch\n",
        "from torch import nn, optim\n",
        "from torchvision import datasets, transforms\n",
        "import matplotlib.pyplot as plt\n",
        "\n",
        "# Define a transform to normalize the data\n",
        "transform = transforms.Compose([transforms.ToTensor(),\n",
        "                                transforms.Normalize((0.5,), (0.5,))])\n",
        "# Download and load the training data\n",
        "trainset = datasets.FashionMNIST('~/.pytorch/F_MNIST_data/', download=True, train=True, transform=transform)\n",
        "trainloader = torch.utils.data.DataLoader(trainset, batch_size=64, shuffle=True)\n",
        "\n",
        "# Download and load the test data\n",
        "testset = datasets.FashionMNIST('~/.pytorch/F_MNIST_data/', download=True, train=False, transform=transform)\n",
        "testloader = torch.utils.data.DataLoader(testset, batch_size=64, shuffle=True)"
      ],
      "execution_count": 0,
      "outputs": []
    },
    {
      "cell_type": "markdown",
      "metadata": {
        "id": "kUSWelWueW8K",
        "colab_type": "text"
      },
      "source": [
        "Можем посмотреть на пример изображения"
      ]
    },
    {
      "cell_type": "code",
      "metadata": {
        "id": "LXXfu_u4eW8N",
        "colab_type": "code",
        "outputId": "cd87f1f5-f4b0-4983-bed5-ab35918f2959",
        "colab": {
          "base_uri": "https://localhost:8080/",
          "height": 267
        }
      },
      "source": [
        "image, label = next(iter(trainloader))\n",
        "plt.imshow(image[0].numpy().squeeze(), cmap='Greys_r');"
      ],
      "execution_count": 0,
      "outputs": [
        {
          "output_type": "display_data",
          "data": {
            "image/png": "[encoded data removed]",
            "text/plain": [
              "<Figure size 432x288 with 1 Axes>"
            ]
          },
          "metadata": {
            "tags": [],
            "image/png": {
              "width": 253,
              "height": 250
            }
          }
        }
      ]
    },
    {
      "cell_type": "markdown",
      "metadata": {
        "id": "gV90oSCkeW8U",
        "colab_type": "text"
      },
      "source": [
        "## Построение сети\n",
        "\n",
        "Здесь вы должны определить свою сеть. Как и в MNIST, каждое изображение имеет размер 28x28, что в общей сложности составляет 784 пикселя, также есть 10 классов. Вы должны использовать хотя бы один скрытый слой. Предлагаем вам использовать активации ReLU для внутренних слоев, и log-softmax для внешнего. Сколько слоев вы добавляете и размер этих слоев вы устанавливаете сами."
      ]
    },
    {
      "cell_type": "code",
      "metadata": {
        "id": "UjYp25BoeW8V",
        "colab_type": "code",
        "colab": {}
      },
      "source": [
        "# TODO: Define your network architecture here\n",
        "model = nn.Sequential(nn.Linear(784, 128), \n",
        "                      nn.ReLU(),\n",
        "                      nn.Linear(128, 64),\n",
        "                      nn.ReLU(),\n",
        "                      nn.Linear(64, 10),\n",
        "                      nn.LogSoftmax(dim=1))\n"
      ],
      "execution_count": 0,
      "outputs": []
    },
    {
      "cell_type": "markdown",
      "metadata": {
        "id": "7KHrSw9WeW8Z",
        "colab_type": "text"
      },
      "source": [
        "# Тренируй сеть\n",
        "\n",
        "Теперь вы должны создать свою сеть и обучить ее. Сначала вам нужно определить лосс (http://pytorch.org/docs/master/nn.html#loss-functions ) (что-то вроде `nn.CrossEntropyLoss`) и оптимизатор (http://pytorch.org/docs/master/optim.html ) (обычно `optim.SGD` или` optim.Adam`).\n",
        "\n",
        "Затем напишите код обучения модели. Помните, что тренировочный проход довольно простой процесс:\n",
        "\n",
        "* Сделайте прямой проход через сеть, чтобы получить логиты\n",
        "* Используйте логиты для расчета потерь\n",
        "* Выполните обратный проход по сети с помощью `loss.backward()` для вычисления градиентов.\n",
        "* Сделайте шаг с оптимизатором, чтобы обновить веса\n",
        "\n",
        "Регулируя гиперпараметры (скрытые нейроны, learning rate и т.д.), вы должны получить ошибку обучения ниже 0.4."
      ]
    },
    {
      "cell_type": "code",
      "metadata": {
        "id": "zWE69CXceW8b",
        "colab_type": "code",
        "colab": {}
      },
      "source": [
        "# TODO: Create the network, define the criterion and optimizer\n",
        "model = nn.Sequential(nn.Linear(784, 128), \n",
        "                      nn.ReLU(),\n",
        "                      nn.Linear(128, 64),\n",
        "                      nn.ReLU(),\n",
        "                      nn.Linear(64, 10),\n",
        "                      nn.LogSoftmax(dim=1))\n",
        "\n",
        "\n",
        "criterion=nn.NLLLoss()\n",
        "optimizer = optim.SGD(model.parameters(), lr=0.03)\n",
        "image, label = next(iter(trainloader))"
      ],
      "execution_count": 0,
      "outputs": []
    },
    {
      "cell_type": "code",
      "metadata": {
        "id": "XPVhgZw4eW8h",
        "colab_type": "code",
        "colab": {}
      },
      "source": [
        "# TODO: Train the network here\n",
        "epoch=3\n",
        "for i in range (epoch):\n",
        "  for image, label in trainloader:\n",
        "    image=image.view(image.shape[0], -1)\n",
        "    out=model(image)\n",
        "    loss=criterion(out, label)\n",
        "    optimizer.zero_grad()\n",
        "    loss.backward()\n",
        "    optimizer.step()\n",
        "    "
      ],
      "execution_count": 0,
      "outputs": []
    },
    {
      "cell_type": "code",
      "metadata": {
        "id": "3MRiMg_7eW8l",
        "colab_type": "code",
        "outputId": "42a04e59-2ca9-4c7f-d364-1ec82fbee3b9",
        "colab": {
          "base_uri": "https://localhost:8080/",
          "height": 301
        }
      },
      "source": [
        "%matplotlib inline\n",
        "%config InlineBackend.figure_format = 'retina'\n",
        "\n",
        "import helper\n",
        "\n",
        "# Test out your network!\n",
        "\n",
        "dataiter = iter(testloader)\n",
        "images, labels = dataiter.next()\n",
        "img = images[54]\n",
        "plt.imshow(img.numpy().squeeze(), cmap='Greys_r');\n",
        "# Convert 2D image to 1D vector\n",
        "img = img.resize_(1, 784)\n",
        "with torch.no_grad():\n",
        "  log=model(img)\n",
        "# TODO: Calculate the class probabilities (softmax) for img\n",
        "ps = torch.exp(log)\n",
        "ps\n",
        "# Plot the image and probabilities\n",
        "#helper.view_classify(img.resize_(1, 28, 28), ps, version='Fashion')"
      ],
      "execution_count": 0,
      "outputs": [
        {
          "output_type": "execute_result",
          "data": {
            "text/plain": [
              "tensor([[2.7855e-03, 9.8642e-05, 3.5809e-01, 1.6095e-03, 2.0208e-01, 6.9581e-05,\n",
              "         4.2396e-01, 4.7352e-06, 1.1309e-02, 3.8137e-06]])"
            ]
          },
          "metadata": {
            "tags": []
          },
          "execution_count": 36
        },
        {
          "output_type": "display_data",
          "data": {
            "image/png": "[encoded data removed]",
            "text/plain": [
              "<Figure size 432x288 with 1 Axes>"
            ]
          },
          "metadata": {
            "tags": [],
            "image/png": {
              "width": 253,
              "height": 250
            }
          }
        }
      ]
    },
    {
      "cell_type": "code",
      "metadata": {
        "id": "3wDFq5KqREgB",
        "colab_type": "code",
        "colab": {}
      },
      "source": [
        ""
      ],
      "execution_count": 0,
      "outputs": []
    }
  ]
}